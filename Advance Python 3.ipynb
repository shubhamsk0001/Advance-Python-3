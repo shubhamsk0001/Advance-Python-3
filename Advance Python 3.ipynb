{
 "cells": [
  {
   "cell_type": "code",
   "execution_count": null,
   "id": "852098f2",
   "metadata": {},
   "outputs": [],
   "source": [
    "1. What is the concept of an abstract superclass?"
   ]
  },
  {
   "cell_type": "code",
   "execution_count": null,
   "id": "77558ae8",
   "metadata": {},
   "outputs": [],
   "source": [
    "An abstract class/superclass can be considered as a blueprint for other classes. \n",
    "It allows you to create a set of methods that must be created within any child classes built from the abstract class.\n",
    "A class which contains one or more abstract methods is called an abstract class.\n",
    "Whereas an abstract method is a method that has a declaration but does not have an implementation."
   ]
  },
  {
   "cell_type": "code",
   "execution_count": 1,
   "id": "2466b60d",
   "metadata": {},
   "outputs": [],
   "source": [
    "from abc import ABC, abstractmethod\n",
    "class Polygon(ABC): # Abstract Class\n",
    "    @abstractmethod\n",
    "    def noofsides(self): # Abstract Method\n",
    "        pass\n",
    "class Triangle(Polygon):\n",
    "    def noofsides(self):  # overriding abstract method in child class Triangle\n",
    "        print(\"I have 3 sides\")\n",
    "class Pentagon(Polygon):\n",
    "    def noofsides(self): # overriding abstract method in child class Pentagon\n",
    "        print(\"I have 5 sides\")"
   ]
  },
  {
   "cell_type": "code",
   "execution_count": null,
   "id": "57e0fcfc",
   "metadata": {},
   "outputs": [],
   "source": [
    "2. What happens when a class statement's top level contains a basic assignment statement?"
   ]
  },
  {
   "cell_type": "code",
   "execution_count": null,
   "id": "2dcfcef8",
   "metadata": {},
   "outputs": [],
   "source": [
    "When a Class statement's top level contains a basic assignment statement, its usually treated as a class attribute\n",
    "or class level variable.\n",
    "whereas assignment statements inside methods are treated as instance attributes or local attributes.\n",
    "\n",
    "When an instance of a class is created a single copy of class attributes is maintained and shared to all\n",
    "instances of class. whereas each instance object maintains its own copy of instance variables."
   ]
  },
  {
   "cell_type": "code",
   "execution_count": 2,
   "id": "e2a8d367",
   "metadata": {},
   "outputs": [],
   "source": [
    "class Person:\n",
    "    species = 'Homesapiens' # class attribute\n",
    "    def __init__(self,name,gender):\n",
    "        self.name = name # instance attributes\n",
    "        self.gender = gender"
   ]
  },
  {
   "cell_type": "code",
   "execution_count": null,
   "id": "895ea477",
   "metadata": {},
   "outputs": [],
   "source": [
    "3. Why does a class need to manually call a superclass's init method?"
   ]
  },
  {
   "cell_type": "code",
   "execution_count": null,
   "id": "f6936fcb",
   "metadata": {},
   "outputs": [],
   "source": [
    "if a child class has __init__ method, then it will not inherit the __init__ method of the parent class. \n",
    "in other words the __init__ method of the child class overrides the __init__ method of the parent class.\n",
    "so we have to manually call a parent superclass's __init__ using super() method."
   ]
  },
  {
   "cell_type": "code",
   "execution_count": 3,
   "id": "a259962d",
   "metadata": {},
   "outputs": [
    {
     "name": "stdout",
     "output_type": "stream",
     "text": [
      "{'name': 'Vivek', 'age': 28, 'salary': 20000}\n"
     ]
    }
   ],
   "source": [
    "class Person:\n",
    "    def __init__(self,name,age):\n",
    "        self.name = name\n",
    "        self.age = age       \n",
    "class Employee(Person):\n",
    "    def __init__(self,name,age,salary):\n",
    "        super().__init__(name,age)\n",
    "        self.salary = salary\n",
    "emp_1 = Employee('Vivek',28,20000)\n",
    "print(emp_1.__dict__)"
   ]
  },
  {
   "cell_type": "code",
   "execution_count": null,
   "id": "c69bffb3",
   "metadata": {},
   "outputs": [],
   "source": [
    "4. How can you augment, instead of completely replacing, an inherited method?"
   ]
  },
  {
   "cell_type": "code",
   "execution_count": null,
   "id": "93599368",
   "metadata": {},
   "outputs": [],
   "source": [
    "super() method can be used to augment, instead of completely replacing, an inherited method."
   ]
  },
  {
   "cell_type": "code",
   "execution_count": 4,
   "id": "8329a815",
   "metadata": {},
   "outputs": [
    {
     "name": "stdout",
     "output_type": "stream",
     "text": [
      "{'name': 'Vivek', 'gender': 'Male', 'salary': 10000}\n"
     ]
    }
   ],
   "source": [
    "class Person:\n",
    "    def __init__(self,name,gender):\n",
    "        self.name = name\n",
    "        self.gender = gender\n",
    "class Employee(Person):\n",
    "    def __init__(self,name,gender,salary):\n",
    "        super().__init__(name,gender) \n",
    "        self.salary = salary\n",
    "emp_1 = Employee('Vivek','Male',10000)\n",
    "print(emp_1.__dict__) "
   ]
  },
  {
   "cell_type": "code",
   "execution_count": null,
   "id": "013b3a10",
   "metadata": {},
   "outputs": [],
   "source": [
    "5. How is the local scope of a class different from that of a function?"
   ]
  },
  {
   "cell_type": "code",
   "execution_count": null,
   "id": "93bf1f1e",
   "metadata": {},
   "outputs": [],
   "source": [
    "A Variable which is defined inside a function is local to that function. \n",
    "It is accesible from the point at which it is defined until the end of the function, and exists for as long as\n",
    "the function is existing.\n",
    "\n",
    "Similary a variable inside of a class also has a local variable scope.\n",
    "Variables which are defined in the class body (but outside all methods) are called as class level variables \n",
    "or class attributes. they can be referenced by there bare names within the same scope, but they can also be accessed \n",
    "from outside this scope if we use the attribute access operator (.). on a class or an instance of the class."
   ]
  },
  {
   "cell_type": "code",
   "execution_count": 5,
   "id": "78e449d6",
   "metadata": {},
   "outputs": [
    {
     "name": "stdout",
     "output_type": "stream",
     "text": [
      "you're name is Mano Vishnu\n",
      "Name varible is not available outside hello function scope\n",
      "HomeSapines\n",
      "HomeSapines\n"
     ]
    }
   ],
   "source": [
    "def hello(name):\n",
    "    name = name\n",
    "    print(f'you\\'re name is {name}')\n",
    "hello('Mano Vishnu')\n",
    "try:\n",
    "    name\n",
    "except NameError:\n",
    "    print('Name varible is not available outside hello function scope')\n",
    "\n",
    "class Person:\n",
    "    species = \"HomeSapines\"\n",
    "    def __init__(self):\n",
    "        pass\n",
    "print(Person.species) # Accessing species using class name\n",
    "Male = Person()\n",
    "print(Male.species) # Accessing species using instance of class"
   ]
  }
 ],
 "metadata": {
  "kernelspec": {
   "display_name": "Python 3 (ipykernel)",
   "language": "python",
   "name": "python3"
  },
  "language_info": {
   "codemirror_mode": {
    "name": "ipython",
    "version": 3
   },
   "file_extension": ".py",
   "mimetype": "text/x-python",
   "name": "python",
   "nbconvert_exporter": "python",
   "pygments_lexer": "ipython3",
   "version": "3.9.12"
  }
 },
 "nbformat": 4,
 "nbformat_minor": 5
}
